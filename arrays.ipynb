{
 "cells": [
  {
   "cell_type": "markdown",
   "id": "a0892651-6e58-45fe-bcc4-2d51bc158545",
   "metadata": {},
   "source": [
    "Creating arrays"
   ]
  },
  {
   "cell_type": "code",
   "execution_count": 2,
   "id": "09e0e5f2-c388-4fb7-bb08-cf83b14069e0",
   "metadata": {},
   "outputs": [],
   "source": [
    "import numpy as np"
   ]
  },
  {
   "cell_type": "code",
   "execution_count": 4,
   "id": "c81dd8ff-fa39-45f9-bf1d-0d1efd80801d",
   "metadata": {},
   "outputs": [
    {
     "data": {
      "text/plain": [
       "array([1, 2, 3, 4, 5])"
      ]
     },
     "execution_count": 4,
     "metadata": {},
     "output_type": "execute_result"
    }
   ],
   "source": [
    "np.array([1, 2, 3, 4, 5])"
   ]
  },
  {
   "cell_type": "code",
   "execution_count": 6,
   "id": "5d6a90fe-fda6-40e8-8324-ba4c491ec3f1",
   "metadata": {},
   "outputs": [
    {
     "data": {
      "text/plain": [
       "array([[16, 17, 18],\n",
       "       [19, 20, 21]])"
      ]
     },
     "execution_count": 6,
     "metadata": {},
     "output_type": "execute_result"
    }
   ],
   "source": [
    "np.array([[16, 17, 18], [19, 20, 21]])"
   ]
  },
  {
   "cell_type": "code",
   "execution_count": 7,
   "id": "b1b33f39-3a02-4717-8208-a412f2bf4118",
   "metadata": {},
   "outputs": [],
   "source": [
    "arr1 = np.array([1, 2, 3, 4, 5])"
   ]
  },
  {
   "cell_type": "markdown",
   "id": "a9b285da-563f-4225-9e03-567a5b94f412",
   "metadata": {},
   "source": [
    "Sum"
   ]
  },
  {
   "cell_type": "code",
   "execution_count": 8,
   "id": "c8d63f0e-716b-49e1-8597-35b4f8b73a3a",
   "metadata": {},
   "outputs": [],
   "source": [
    "sum_arr1 = np.sum(arr1)"
   ]
  },
  {
   "cell_type": "code",
   "execution_count": 9,
   "id": "5a18d09f-006f-416e-9a83-aea813614047",
   "metadata": {},
   "outputs": [
    {
     "name": "stdout",
     "output_type": "stream",
     "text": [
      "15\n"
     ]
    }
   ],
   "source": [
    "print (sum_arr1)"
   ]
  },
  {
   "cell_type": "markdown",
   "id": "1cadb6a6-e835-482d-ae90-48cda2375811",
   "metadata": {},
   "source": [
    "Mean"
   ]
  },
  {
   "cell_type": "code",
   "execution_count": 11,
   "id": "f9a75e58-255e-4e2f-b5b0-01d80c69abcb",
   "metadata": {},
   "outputs": [],
   "source": [
    "arr2 = np.array([[6, 7, 8], [9, 10, 11]])"
   ]
  },
  {
   "cell_type": "code",
   "execution_count": 12,
   "id": "e190446a-fb9b-45bc-954c-6e244be4678b",
   "metadata": {},
   "outputs": [],
   "source": [
    "mean_arr2 = np.mean(arr2)"
   ]
  },
  {
   "cell_type": "code",
   "execution_count": 13,
   "id": "698b38fe-7ace-4a2c-81d5-89c61717be31",
   "metadata": {},
   "outputs": [
    {
     "name": "stdout",
     "output_type": "stream",
     "text": [
      "8.5\n"
     ]
    }
   ],
   "source": [
    "print (mean_arr2)"
   ]
  },
  {
   "cell_type": "markdown",
   "id": "f962b110-1edb-497d-99e6-dd168db10d4a",
   "metadata": {},
   "source": [
    "Element_wise"
   ]
  },
  {
   "cell_type": "code",
   "execution_count": 14,
   "id": "e2a9049f-c44b-484b-808f-c3c406c8de2a",
   "metadata": {},
   "outputs": [],
   "source": [
    "element_wise_product = arr1 * arr1"
   ]
  },
  {
   "cell_type": "code",
   "execution_count": 15,
   "id": "cc83973f-c3ba-47e5-9de1-050e353e32a6",
   "metadata": {},
   "outputs": [
    {
     "name": "stdout",
     "output_type": "stream",
     "text": [
      "[ 1  4  9 16 25]\n"
     ]
    }
   ],
   "source": [
    "print(element_wise_product)"
   ]
  },
  {
   "cell_type": "markdown",
   "id": "b9653b63-cd57-475b-878d-e3b27315f45a",
   "metadata": {},
   "source": [
    "Indexing and slicing"
   ]
  },
  {
   "cell_type": "code",
   "execution_count": 16,
   "id": "b2d6694b-7eaf-40f6-973e-c3a21cedfad9",
   "metadata": {},
   "outputs": [],
   "source": [
    "element_3 = arr1[2] # third element of arr1\n",
    "row_1 = arr2[0] # first row of arr2\n",
    "col_2 = arr2[:, 1] # second column of arr2"
   ]
  },
  {
   "cell_type": "code",
   "execution_count": 17,
   "id": "81b4e539-780e-42ed-a563-daa8532b1e39",
   "metadata": {},
   "outputs": [
    {
     "name": "stdout",
     "output_type": "stream",
     "text": [
      "Third element 3\n",
      "First row: [6 7 8]\n",
      "Second column [ 7 10]\n"
     ]
    }
   ],
   "source": [
    "print(\"Third element\", element_3)\n",
    "print(\"First row:\", row_1)\n",
    "print(\"Second column\", col_2)"
   ]
  },
  {
   "cell_type": "code",
   "execution_count": null,
   "id": "404f20b3-baba-4ef8-b74f-d5f1db968d26",
   "metadata": {},
   "outputs": [],
   "source": []
  },
  {
   "cell_type": "code",
   "execution_count": null,
   "id": "e1a142ac-b773-4d82-b5fa-22c6b3d88d74",
   "metadata": {},
   "outputs": [],
   "source": []
  },
  {
   "cell_type": "code",
   "execution_count": null,
   "id": "ce5405f1-2853-42dc-91bd-fe213b45a133",
   "metadata": {},
   "outputs": [],
   "source": []
  },
  {
   "cell_type": "code",
   "execution_count": null,
   "id": "12086a11-1e7e-4518-bf86-ae31ba0c92db",
   "metadata": {},
   "outputs": [],
   "source": []
  }
 ],
 "metadata": {
  "kernelspec": {
   "display_name": "Python 3 (ipykernel)",
   "language": "python",
   "name": "python3"
  },
  "language_info": {
   "codemirror_mode": {
    "name": "ipython",
    "version": 3
   },
   "file_extension": ".py",
   "mimetype": "text/x-python",
   "name": "python",
   "nbconvert_exporter": "python",
   "pygments_lexer": "ipython3",
   "version": "3.10.11"
  }
 },
 "nbformat": 4,
 "nbformat_minor": 5
}
